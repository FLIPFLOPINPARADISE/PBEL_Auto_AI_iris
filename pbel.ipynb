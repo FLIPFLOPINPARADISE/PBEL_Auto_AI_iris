{
  "cells": [
    {
      "cell_type": "code",
      "execution_count": 2,
      "metadata": {
        "colab": {
          "base_uri": "https://localhost:8080/"
        },
        "id": "bpNEVTWgxze-",
        "outputId": "7184669b-d99b-4017-c517-87c24548d68e"
      },
      "outputs": [
        {
          "name": "stdout",
          "output_type": "stream",
          "text": [
            "Scoring response\n",
            "{'trace': 'c5491164b0fc666337fb292246b3a037', 'errors': [{'code': 'invalid_input_data', 'message': 'Number of features in the input data must match the number of features of the model'}], 'status_code': 400}\n"
          ]
        }
      ],
      "source": [
        "import requests\n",
        "import json\n",
        "\n",
        "# IBM Cloud API key\n",
        "API_KEY = \"67zMaYusHEbzRHDOFBRV3FYeQkMeWP3aLf0X0iKKFWrv\" # use your own api key\n",
        "\n",
        "# Step 1: Get access token\n",
        "token_response = requests.post(\n",
        "    'https://iam.cloud.ibm.com/identity/token',\n",
        "    data={\"apikey\": API_KEY, \"grant_type\": 'urn:ibm:params:oauth:grant-type:apikey'}\n",
        ")\n",
        "mltoken = token_response.json()[\"access_token\"]\n",
        "header = {'Content-Type': 'application/json', 'Authorization': 'Bearer ' + mltoken}\n",
        "\n",
        "# Step 2: Define payload for scoring\n",
        "payload_scoring = {\n",
        "  \"input_data\": [\n",
        "    {\n",
        "      \"fields\": [\n",
        "        \"ID\",\n",
        "        \"education_level\",\n",
        "        \"years_experience\",\n",
        "        \"job_title\",\n",
        "        \"industry\",\n",
        "        \"location\",\n",
        "        \"company_size\",\n",
        "        \"certifications\",\n",
        "        \"age\",\n",
        "        \"working_hours\",\n",
        "        \"crucial_code\"\n",
        "      ],\n",
        "      \"values\": [\n",
        "        [1, \"High School\", 12, \"Data Scientist\", \"Education\", \"New York\", \"Medium\", 1, 48, 52, \"XEV156\"],\n",
        "        [2, \"PhD\", 17, \"Data Scientist\", \"IT\", \"New York\", \"\", 0, 39, 34, \"\"],\n",
        "        [3, \"PhD\", 12, \"Software Engineer\", \"Education\", \"New York\", \"Large\", 4, \"\", 42, \"FIK684\"],\n",
        "        [4, \"Bachelors\", 1, \"Analyst\", \"Healthcare\", \"New York\", \"Small\", 2, 34, \"\", \"DKD155\"],\n",
        "        [5, \"High School\", 0, \"Analyst\", \"IT\", \"New York\", \"Small\", 1, 38, 40, \"ZZH645\"],\n",
        "        [6, \"PhD\", 17, \"Manager\", \"Healthcare\", \"New York\", \"Large\", 3, 35, 37, \"EUL573\"],\n",
        "        [7, \"High School\", 6, \"Software Engineer\", \"IT\", \"New York\", \"Medium\", 2, 40, 43, \"ASK448\"],\n",
        "        [8, \"PhD\", 11, \"Data Scientist\", \"Education\", \"New York\", \"\", 1, 45, 42, \"\"]\n",
        "      ]\n",
        "    }\n",
        "  ]\n",
        "}\n",
        "# Step 3: Send scoring request\n",
        "response_scoring = requests.post(\n",
        "    'https://au-syd.ml.cloud.ibm.com/ml/v4/deployments/6f044e96-4d3c-4eb1-ba05-fe97f767f623/predictions?version=2021-05-01',\n",
        "    json=payload_scoring,\n",
        "    headers=header\n",
        ")\n",
        "\n",
        "print(\"Scoring response\")\n",
        "try:\n",
        "    print(response_scoring.json())\n",
        "except ValueError:\n",
        "    print(response_scoring.text)\n",
        "except Exception as e:\n",
        "    print(f\"An unexpected error occurred: {e}\")"
      ]
    }
  ],
  "metadata": {
    "colab": {
      "provenance": [],
      "toc_visible": true
    },
    "kernelspec": {
      "display_name": "Python 3",
      "name": "python3"
    },
    "language_info": {
      "codemirror_mode": {
        "name": "ipython",
        "version": 3
      },
      "file_extension": ".py",
      "mimetype": "text/x-python",
      "name": "python",
      "nbconvert_exporter": "python",
      "pygments_lexer": "ipython3",
      "version": "3.13.2"
    }
  },
  "nbformat": 4,
  "nbformat_minor": 0
}
