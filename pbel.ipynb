{
  "cells": [
    {
      "cell_type": "code",
      "execution_count": 2,
      "metadata": {
        "colab": {
          "base_uri": "https://localhost:8080/"
        },
        "id": "bpNEVTWgxze-",
        "outputId": "7184669b-d99b-4017-c517-87c24548d68e"
      },
      "outputs": [
        {
          "name": "stdout",
          "output_type": "stream",
          "text": [
            "Scoring response\n",
            "{'predictions': [{'fields': ['prediction', 'probability'], 'values': [['setosa', [1.0, 0.0, 0.0]], ['virginica', [0.0, 0.0, 1.0]], ['versicolor', [0.0, 1.0, 0.0]]]}]}\n"
          ]
        }
      ],
      "source": [
        "import requests\n",
        "import json\n",
        "\n",
        "# IBM Cloud API key\n",
        "API_KEY = \"67zMaYusHEbzRHDOFBRV3FYeQkMeWP3aLf0X0iKKFWrv\" # use your own api key\n",
        "\n",
        "# Step 1: Get access token\n",
        "token_response = requests.post(\n",
        "    'https://iam.cloud.ibm.com/identity/token',\n",
        "    data={\"apikey\": API_KEY, \"grant_type\": 'urn:ibm:params:oauth:grant-type:apikey'}\n",
        ")\n",
        "mltoken = token_response.json()[\"access_token\"]\n",
        "header = {'Content-Type': 'application/json', 'Authorization': 'Bearer ' + mltoken}\n",
        "\n",
        "# Step 2: Define payload for scoring\n",
        "payload_scoring = {\n",
        "  \"input_data\": [\n",
        "    {\n",
        "      \"fields\": [\"sepal_length\", \"sepal_width\", \"petal_length\", \"petal_width\"],\n",
        "      \"values\": [\n",
        "        [5.1, 3.5, 1.4, 0.2],   # likely Setosa\n",
        "        [6.7, 3.0, 5.2, 2.3],   # likely Virginica\n",
        "        [5.9, 3.0, 4.2, 1.5]    # likely Versicolor\n",
        "      ]\n",
        "    }\n",
        "  ]\n",
        "}\n",
        "\n",
        "# Step 3: Send scoring request\n",
        "response_scoring = requests.post(\n",
        "    'https://au-syd.ml.cloud.ibm.com/ml/v4/deployments/6f044e96-4d3c-4eb1-ba05-fe97f767f623/predictions?version=2021-05-01',\n",
        "    json=payload_scoring,\n",
        "    headers=header\n",
        ")\n",
        "\n",
        "print(\"Scoring response\")\n",
        "try:\n",
        "    print(response_scoring.json())\n",
        "except ValueError:\n",
        "    print(response_scoring.text)\n",
        "except Exception as e:\n",
        "    print(f\"An unexpected error occurred: {e}\")"
      ]
    }
  ],
  "metadata": {
    "colab": {
      "provenance": [],
      "toc_visible": true
    },
    "kernelspec": {
      "display_name": "Python 3",
      "name": "python3"
    },
    "language_info": {
      "codemirror_mode": {
        "name": "ipython",
        "version": 3
      },
      "file_extension": ".py",
      "mimetype": "text/x-python",
      "name": "python",
      "nbconvert_exporter": "python",
      "pygments_lexer": "ipython3",
      "version": "3.13.2"
    }
  },
  "nbformat": 4,
  "nbformat_minor": 0
}
